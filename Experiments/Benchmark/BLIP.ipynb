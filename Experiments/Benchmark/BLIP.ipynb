{
 "cells": [
  {
   "cell_type": "code",
   "execution_count": 1,
   "metadata": {},
   "outputs": [
    {
     "name": "stderr",
     "output_type": "stream",
     "text": [
      "c:\\Users\\zhc23013\\AppData\\Local\\miniconda3\\envs\\yolov8\\Lib\\site-packages\\tqdm\\auto.py:21: TqdmWarning: IProgress not found. Please update jupyter and ipywidgets. See https://ipywidgets.readthedocs.io/en/stable/user_install.html\n",
      "  from .autonotebook import tqdm as notebook_tqdm\n"
     ]
    }
   ],
   "source": [
    "import sys\n",
    "import time\n",
    "from PIL import Image\n",
    "from transformers import BlipProcessor, BlipForQuestionAnswering\n",
    "\n",
    "# get model and processor\n",
    "processor = BlipProcessor.from_pretrained(\"Salesforce/blip-vqa-base\")\n",
    "model = BlipForQuestionAnswering.from_pretrained(\"Salesforce/blip-vqa-base\")\n",
    "\n",
    "# raw_image = Image.open(\"Scene images/Hospital/hospital1.png\").convert('RGB')\n",
    "# question = \"Is the person in the image wearing a safety goggle?\"\n",
    "# # preprocess input data\n",
    "# inputs = processor(raw_image, question, return_tensors=\"pt\")\n",
    "\n",
    "# start = time.perf_counter()\n",
    "# # perform generation\n",
    "# out = model.generate(**inputs)\n",
    "# end = time.perf_counter() - start\n",
    "\n",
    "# # postprocess result\n",
    "# answer = processor.decode(out[0], skip_special_tokens=True)"
   ]
  },
  {
   "cell_type": "code",
   "execution_count": 3,
   "metadata": {},
   "outputs": [],
   "source": [
    "images = []\n",
    "\n",
    "for i in range(1, 51):\n",
    "    file_name = f\"Scene images/Hospital/hospital{i}.png\"\n",
    "    raw_image = Image.open(file_name).convert('RGB')\n",
    "    images.append(raw_image)"
   ]
  },
  {
   "cell_type": "code",
   "execution_count": 4,
   "metadata": {},
   "outputs": [],
   "source": [
    "question1 = \"Is the person in the image wearing a safety goggle?\"\n",
    "question2 = \"Is the person in the image wearing gloves?\"\n",
    "question3 = \"Is the person in the image wearing shoe covers?\"\n",
    "question4 = \"Is the person in the image wearing a protective suit?\"\n",
    "question5 = \"Is the person in the image wearing a mask?\""
   ]
  },
  {
   "cell_type": "code",
   "execution_count": 2,
   "metadata": {},
   "outputs": [
    {
     "name": "stderr",
     "output_type": "stream",
     "text": [
      "c:\\Users\\zhc23013\\AppData\\Local\\miniconda3\\envs\\yolov8\\Lib\\site-packages\\transformers\\generation\\utils.py:1132: UserWarning: Using the model-agnostic default `max_length` (=20) to control the generation length. We recommend setting `max_new_tokens` to control the maximum length of the generation.\n",
      "  warnings.warn(\n"
     ]
    },
    {
     "name": "stdout",
     "output_type": "stream",
     "text": [
      "Results saved to results_BLIP1.txt\n"
     ]
    }
   ],
   "source": [
    "image_paths = [f\"Scene images/Hospital/hospital{i}.png\" for i in range(1, 51)]\n",
    "questions = [\n",
    "    \"Is the person in the image wearing a safety goggle?\",\n",
    "    \"Is the person in the image wearing gloves?\",\n",
    "    \"Is the person in the image wearing shoe covers?\",\n",
    "    \"Is the person in the image wearing a protective suit?\",\n",
    "    \"Is the person in the image wearing a mask?\"\n",
    "]\n",
    "\n",
    "results = []\n",
    "\n",
    "for image_path in image_paths:\n",
    "    raw_image = Image.open(image_path).convert('RGB')\n",
    "    for question in questions:\n",
    "        inputs = processor(raw_image, question, return_tensors=\"pt\")\n",
    "\n",
    "        start = time.perf_counter()\n",
    "        out = model.generate(**inputs)\n",
    "        end = time.perf_counter() - start\n",
    "\n",
    "        answer = processor.decode(out[0], skip_special_tokens=True)\n",
    "        results.append({\n",
    "            \"image\": image_path,\n",
    "            \"question\": question,\n",
    "            \"answer\": answer,\n",
    "            # \"time_taken\": end\n",
    "        })\n",
    "\n",
    "output_file = \"results_BLIP1.txt\"\n",
    "with open(output_file, \"w\") as f:\n",
    "    for result in results:\n",
    "        f.write(f\"Image: {result['image']}\\n\")\n",
    "        f.write(f\"Question: {result['question']}\\n\")\n",
    "        f.write(f\"Answer: {result['answer']}\\n\")\n",
    "        #f.write(f\"Time taken: {result['time_taken']:.4f} seconds\\n\")\n",
    "        f.write(\"\\n\")\n",
    "\n",
    "print(f\"Results saved to {output_file}\")\n"
   ]
  },
  {
   "cell_type": "markdown",
   "metadata": {},
   "source": [
    "# Evaluation"
   ]
  },
  {
   "cell_type": "code",
   "execution_count": 36,
   "metadata": {},
   "outputs": [
    {
     "name": "stdout",
     "output_type": "stream",
     "text": [
      "Accuracy: 76.40%\n"
     ]
    }
   ],
   "source": [
    "def read_results(file_path):\n",
    "    results = []\n",
    "    with open(file_path, \"r\") as file:\n",
    "        lines = file.readlines()\n",
    "        for i in range(0, len(lines), 4):  \n",
    "            try:\n",
    "                image = lines[i].strip().split(\": \")[1]\n",
    "                question = lines[i+1].strip().split(\": \")[1]\n",
    "                answer = lines[i+2].strip().split(\": \")[1]\n",
    "                results.append((image, question, answer))\n",
    "            except IndexError:\n",
    "                print(f\"Warning: Skipping malformed record at lines {i}-{i+3}\")\n",
    "                continue\n",
    "    return results\n",
    "\n",
    "ground_truth = read_results(\"ground truth.txt\")\n",
    "model_output = read_results(\"results.txt\")\n",
    "\n",
    "correct_count = 0\n",
    "total_count = min(len(ground_truth), len(model_output))\n",
    "\n",
    "for gt, mo in zip(ground_truth, model_output):\n",
    "    if gt == mo:\n",
    "        correct_count += 1\n",
    "\n",
    "accuracy = correct_count / total_count\n",
    "\n",
    "print(f\"Accuracy: {accuracy * 100:.2f}%\")\n"
   ]
  },
  {
   "cell_type": "code",
   "execution_count": null,
   "metadata": {},
   "outputs": [],
   "source": []
  }
 ],
 "metadata": {
  "kernelspec": {
   "display_name": "yolov8",
   "language": "python",
   "name": "python3"
  },
  "language_info": {
   "codemirror_mode": {
    "name": "ipython",
    "version": 3
   },
   "file_extension": ".py",
   "mimetype": "text/x-python",
   "name": "python",
   "nbconvert_exporter": "python",
   "pygments_lexer": "ipython3",
   "version": "3.12.0"
  }
 },
 "nbformat": 4,
 "nbformat_minor": 2
}
