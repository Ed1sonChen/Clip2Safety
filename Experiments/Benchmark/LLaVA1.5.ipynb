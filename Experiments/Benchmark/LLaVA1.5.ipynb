{
 "cells": [
  {
   "cell_type": "code",
   "execution_count": 1,
   "metadata": {},
   "outputs": [
    {
     "name": "stderr",
     "output_type": "stream",
     "text": [
      "c:\\Users\\zhc23013\\AppData\\Local\\miniconda3\\envs\\yolov8\\Lib\\site-packages\\tqdm\\auto.py:21: TqdmWarning: IProgress not found. Please update jupyter and ipywidgets. See https://ipywidgets.readthedocs.io/en/stable/user_install.html\n",
      "  from .autonotebook import tqdm as notebook_tqdm\n",
      "c:\\Users\\zhc23013\\AppData\\Local\\miniconda3\\envs\\yolov8\\Lib\\site-packages\\transformers\\models\\llava\\configuration_llava.py:104: FutureWarning: The `vocab_size` argument is deprecated and will be removed in v4.42, since it can be inferred from the `text_config`. Passing this argument has no effect\n",
      "  warnings.warn(\n",
      "Loading checkpoint shards: 100%|██████████| 3/3 [00:06<00:00,  2.05s/it]\n",
      "Special tokens have been added in the vocabulary, make sure the associated word embeddings are fine-tuned or trained.\n"
     ]
    }
   ],
   "source": [
    "import sys\n",
    "import time\n",
    "from PIL import Image\n",
    "from transformers import AutoProcessor, LlavaForConditionalGeneration\n",
    "\n",
    "# get model and processor\n",
    "model = LlavaForConditionalGeneration.from_pretrained(\"llava-hf/llava-1.5-7b-hf\")\n",
    "processor = AutoProcessor.from_pretrained(\"llava-hf/llava-1.5-7b-hf\")"
   ]
  },
  {
   "cell_type": "code",
   "execution_count": null,
   "metadata": {},
   "outputs": [],
   "source": [
    "from transformers import AutoProcessor, LlavaForConditionalGeneration, BitsAndBytesConfig\n",
    "import torch\n",
    "from PIL import Image\n",
    "from accelerate import init_empty_weights, infer_auto_device_map\n",
    "from transformers import AutoModelForSeq2SeqLM\n",
    "\n",
    "# Check if CUDA is available\n",
    "device = \"cuda\" if torch.cuda.is_available() else \"cpu\"\n",
    "\n",
    "# Set up 8-bit quantization configuration using BitsAndBytesConfig\n",
    "quantization_config = BitsAndBytesConfig(\n",
    "    load_in_8bit=True,   # You can change this to load_in_4bit=True for 4-bit quantization\n",
    "    bnb_8bit_use_double_quant=True,\n",
    "    bnb_8bit_quant_type=\"nf4\",\n",
    "    bnb_8bit_min_version=False,\n",
    ")\n",
    "\n",
    "# Initialize model with empty weights, which allows accelerated loading later\n",
    "with init_empty_weights():\n",
    "    model = LlavaForConditionalGeneration.from_pretrained(\n",
    "        \"llava-hf/llava-1.5-7b-hf\", \n",
    "        quantization_config=quantization_config\n",
    "    )\n",
    "\n",
    "# Tie the weights to ensure consistency before using `accelerate`\n",
    "model.tie_weights()\n",
    "\n",
    "# Automatically determine which parts of the model go to which device (CPU or GPU)\n",
    "device_map = infer_auto_device_map(model, max_memory={0: \"20GiB\", \"cpu\": \"30GiB\"})\n",
    "\n",
    "# Load model with device mapping and quantization\n",
    "model = LlavaForConditionalGeneration.from_pretrained(\n",
    "    \"llava-hf/llava-1.5-7b-hf\", \n",
    "    device_map=device_map,\n",
    "    quantization_config=quantization_config\n",
    ")\n",
    "\n",
    "processor = AutoProcessor.from_pretrained(\"Salesforce/instructblip-vicuna-7b\")\n",
    "\n",
    "raw_image = Image.open(\"C:/Users/zhc23013/Desktop/Safety Detection Benchmark/Scene images/Hospital/hospital24.png\")"
   ]
  },
  {
   "cell_type": "code",
   "execution_count": null,
   "metadata": {},
   "outputs": [],
   "source": [
    "prompt = \"USER: <image> What are the functions of the mask worn by the person in the picture supposed to have? Answer:\"\n",
    "\n",
    "# Process inputs\n",
    "inputs = processor(text=prompt, images=raw_image, return_tensors=\"pt\").to(device)\n",
    "\n",
    "# Extract only the required fields for generation\n",
    "input_ids = inputs['input_ids'].to(device)\n",
    "attention_mask = inputs['attention_mask'].to(device)\n",
    "\n",
    "# Generate the output\n",
    "outputs = model.generate(input_ids=input_ids, attention_mask=attention_mask, max_new_tokens=30)\n",
    "\n",
    "# Decode and print the output\n",
    "generated_text = processor.batch_decode(outputs, skip_special_tokens=True, clean_up_tokenization_spaces=False)[0]\n",
    "print(generated_text)"
   ]
  },
  {
   "cell_type": "code",
   "execution_count": 38,
   "metadata": {},
   "outputs": [
    {
     "name": "stdout",
     "output_type": "stream",
     "text": [
      "USER:  \n",
      "Is the person in the image wearing a safety goggle? Answer: No\n"
     ]
    }
   ],
   "source": [
    "raw_image = Image.open(\"Scene images/Hospital/hospital2.png\")\n",
    "prompt = \"USER: <image>\\nIs the person in the image wearing a safety goggle? Answer:\"\n",
    "\n",
    "inputs = processor(text=prompt, images=raw_image, return_tensors=\"pt\")\n",
    "outputs = model.generate(**inputs, max_new_tokens=15)\n",
    "\n",
    "generated_text = processor.batch_decode(outputs, skip_special_tokens=True, clean_up_tokenization_spaces=False)[0]\n",
    "print(generated_text)"
   ]
  },
  {
   "cell_type": "code",
   "execution_count": 36,
   "metadata": {},
   "outputs": [
    {
     "name": "stdout",
     "output_type": "stream",
     "text": [
      "yes\n"
     ]
    }
   ],
   "source": [
    "if \"yes\" in generated_text.lower():\n",
    "    answer = \"yes\"\n",
    "elif \"no\" in generated_text.lower():\n",
    "    answer = \"no\"\n",
    "else:\n",
    "    answer = \"unknown\"\n",
    "\n",
    "print(answer)"
   ]
  },
  {
   "cell_type": "code",
   "execution_count": 3,
   "metadata": {},
   "outputs": [],
   "source": [
    "# images = []\n",
    "\n",
    "# for i in range(1, 51):\n",
    "#     file_name = f\"Scene images/Hospital/hospital{i}.png\"\n",
    "#     raw_image = Image.open(file_name).convert('RGB')\n",
    "#     images.append(raw_image)"
   ]
  },
  {
   "cell_type": "code",
   "execution_count": 4,
   "metadata": {},
   "outputs": [],
   "source": [
    "# question1 = \"Is the person in the image wearing a safety goggle? Answer:\"\n",
    "# question2 = \"Is the person in the image wearing gloves? Answer:\"\n",
    "# question3 = \"Is the person in the image wearing shoe covers? Answer:\"\n",
    "# question4 = \"Is the person in the image wearing a protective suit? Answer:\"\n",
    "# question5 = \"Is the person in the image wearing a mask? Answer:\""
   ]
  },
  {
   "cell_type": "code",
   "execution_count": 2,
   "metadata": {},
   "outputs": [
    {
     "name": "stdout",
     "output_type": "stream",
     "text": [
      "Results saved to results_llava1.5.txt\n"
     ]
    }
   ],
   "source": [
    "image_paths = [f\"Scene images/Hospital/hospital{i}.png\" for i in range(1, 51)]\n",
    "questions = [\n",
    "    \"USER: <image>\\nIs the person in the image wearing a safety goggle? Answer:\",\n",
    "    \"USER: <image>\\nIs the person in the image wearing gloves? Answer:\",\n",
    "    \"USER: <image>\\nIs the person in the image wearing shoe covers? Answer:\",\n",
    "    \"USER: <image>\\nIs the person in the image wearing a protective suit? Answer:\",\n",
    "    \"USER: <image>\\nIs the person in the image wearing a mask? Answer:\"\n",
    "]\n",
    "\n",
    "results = []\n",
    "\n",
    "for image_path in image_paths:\n",
    "    raw_image = Image.open(image_path)\n",
    "    for question in questions:\n",
    "        inputs = processor(text=question, images=raw_image, return_tensors=\"pt\")\n",
    "\n",
    "        #start = time.perf_counter()\n",
    "        out = model.generate(**inputs, max_new_tokens=15)\n",
    "        #end = time.perf_counter() - start\n",
    "\n",
    "        generated_text = processor.batch_decode(out, skip_special_tokens=True, clean_up_tokenization_spaces=False)[0]\n",
    "\n",
    "        if \"yes\" in generated_text.lower():\n",
    "            answer = \"yes\"\n",
    "        elif \"no\" in generated_text.lower():\n",
    "            answer = \"no\"\n",
    "        else:\n",
    "            answer = \"unknown\"\n",
    "\n",
    "        results.append({\n",
    "            \"image\": image_path,\n",
    "            \"question\": question,\n",
    "            \"answer\": answer,\n",
    "            #\"time_taken\": end\n",
    "        })\n",
    "\n",
    "output_file = \"results_llava1.5.txt\"\n",
    "with open(output_file, \"w\") as f:\n",
    "    for result in results:\n",
    "        f.write(f\"Image: {result['image']}\\n\")\n",
    "        f.write(f\"Question: {result['question']}\\n\")\n",
    "        f.write(f\"Answer: {result['answer']}\\n\")\n",
    "        #f.write(f\"Time taken: {result['time_taken']:.4f} seconds\\n\")\n",
    "        f.write(\"\\n\")\n",
    "\n",
    "print(f\"Results saved to {output_file}\")\n"
   ]
  },
  {
   "cell_type": "markdown",
   "metadata": {},
   "source": [
    "# Evaluation"
   ]
  },
  {
   "cell_type": "code",
   "execution_count": 47,
   "metadata": {},
   "outputs": [
    {
     "name": "stdout",
     "output_type": "stream",
     "text": [
      "Accuracy: 74.40%\n"
     ]
    }
   ],
   "source": [
    "def read_results(file_path):\n",
    "    results = []\n",
    "    with open(file_path, \"r\") as file:\n",
    "        lines = file.readlines()\n",
    "        for i in range(0, len(lines), 4):  \n",
    "            try:\n",
    "                #image = lines[i].strip().split(\": \")[1]\n",
    "                #question = lines[i+1].strip().split(\": \")[1]\n",
    "                answer = lines[i+2].strip().split(\": \")[1]\n",
    "                results.append((answer))\n",
    "            except IndexError:\n",
    "                print(f\"Warning: Skipping malformed record at lines {i}-{i+3}\")\n",
    "                continue\n",
    "    return results\n",
    "\n",
    "ground_truth = read_results(\"ground truth.txt\")\n",
    "model_output = read_results(\"results_llava1.5.txt\")\n",
    "\n",
    "correct_count = 0\n",
    "total_count = min(len(ground_truth), len(model_output))\n",
    "\n",
    "for gt, mo in zip(ground_truth, model_output):\n",
    "    if gt == mo:\n",
    "        correct_count += 1\n",
    "\n",
    "accuracy = correct_count / total_count\n",
    "\n",
    "print(f\"Accuracy: {accuracy * 100:.2f}%\")\n"
   ]
  },
  {
   "cell_type": "code",
   "execution_count": null,
   "metadata": {},
   "outputs": [],
   "source": []
  }
 ],
 "metadata": {
  "kernelspec": {
   "display_name": "yolov8",
   "language": "python",
   "name": "python3"
  },
  "language_info": {
   "codemirror_mode": {
    "name": "ipython",
    "version": 3
   },
   "file_extension": ".py",
   "mimetype": "text/x-python",
   "name": "python",
   "nbconvert_exporter": "python",
   "pygments_lexer": "ipython3",
   "version": "3.12.0"
  }
 },
 "nbformat": 4,
 "nbformat_minor": 2
}
