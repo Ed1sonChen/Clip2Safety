{
 "cells": [
  {
   "cell_type": "code",
   "execution_count": 9,
   "metadata": {},
   "outputs": [
    {
     "name": "stdout",
     "output_type": "stream",
     "text": [
      "Ultralytics YOLOv8.1.46  Python-3.12.0 torch-2.2.2+cu121 CUDA:0 (NVIDIA GeForce RTX 4090, 24564MiB)\n",
      "YOLOv8l-worldv2 summary (fused): 295 layers, 46807922 parameters, 869986 gradients, 203.9 GFLOPs\n"
     ]
    },
    {
     "name": "stderr",
     "output_type": "stream",
     "text": [
      "\u001b[34m\u001b[1mval: \u001b[0mScanning C:\\Users\\zhc23013\\Desktop\\Ablation Study\\person.v1i.yolov9\\valid\\labels.cache... 173 images, 0 backgrounds, 0 corrupt: 100%|██████████| 173/173 [00:00<?, ?it/s]\n",
      "                 Class     Images  Instances      Box(P          R      mAP50  mAP50-95): 100%|██████████| 11/11 [00:02<00:00,  4.36it/s]\n"
     ]
    },
    {
     "name": "stdout",
     "output_type": "stream",
     "text": [
      "                   all        173        212      0.985      0.953      0.976      0.945\n",
      "                person        173        212      0.985      0.953      0.976      0.945\n",
      "Speed: 1.3ms preprocess, 6.6ms inference, 0.0ms loss, 0.9ms postprocess per image\n",
      "Results saved to \u001b[1mruns\\detect\\val18\u001b[0m\n"
     ]
    }
   ],
   "source": [
    "from ultralytics import YOLO\n",
    "\n",
    "model = YOLO(\"yolov8l-worldv2.pt\") \n",
    "\n",
    "metrics = model.val(data=\"C:/Users/zhc23013/Desktop/Ablation Study/person.v1i.yolov9/data.yaml\")"
   ]
  },
  {
   "cell_type": "code",
   "execution_count": 7,
   "metadata": {},
   "outputs": [
    {
     "name": "stdout",
     "output_type": "stream",
     "text": [
      "Ultralytics YOLOv8.1.46  Python-3.12.0 torch-2.2.2+cu121 CUDA:0 (NVIDIA GeForce RTX 4090, 24564MiB)\n",
      "YOLOv8s-worldv2 summary (fused): 195 layers, 12749288 parameters, 509208 gradients, 50.8 GFLOPs\n"
     ]
    },
    {
     "name": "stderr",
     "output_type": "stream",
     "text": [
      "\u001b[34m\u001b[1mval: \u001b[0mScanning C:\\Users\\zhc23013\\Desktop\\Ablation Study\\person.v1i.yolov9\\valid\\labels... 173 images, 0 backgrounds, 0 corrupt: 100%|██████████| 173/173 [00:00<00:00, 3931.59it/s]"
     ]
    },
    {
     "name": "stdout",
     "output_type": "stream",
     "text": [
      "\u001b[34m\u001b[1mval: \u001b[0mNew cache created: C:\\Users\\zhc23013\\Desktop\\Ablation Study\\person.v1i.yolov9\\valid\\labels.cache\n"
     ]
    },
    {
     "name": "stderr",
     "output_type": "stream",
     "text": [
      "\n",
      "                 Class     Images  Instances      Box(P          R      mAP50  mAP50-95): 100%|██████████| 11/11 [00:01<00:00,  5.53it/s]\n"
     ]
    },
    {
     "name": "stdout",
     "output_type": "stream",
     "text": [
      "                   all        173        212       0.97      0.904      0.939      0.866\n",
      "                person        173        212       0.97      0.904      0.939      0.866\n",
      "Speed: 1.4ms preprocess, 2.9ms inference, 0.0ms loss, 1.2ms postprocess per image\n",
      "Results saved to \u001b[1mruns\\detect\\val16\u001b[0m\n"
     ]
    }
   ],
   "source": [
    "model = YOLO(\"yolov8s-worldv2.pt\")  \n",
    "\n",
    "metrics = model.val(data=\"C:/Users/zhc23013/Desktop/Ablation Study/person.v1i.yolov9/data.yaml\")"
   ]
  },
  {
   "cell_type": "code",
   "execution_count": 8,
   "metadata": {},
   "outputs": [
    {
     "name": "stdout",
     "output_type": "stream",
     "text": [
      "Ultralytics YOLOv8.1.46  Python-3.12.0 torch-2.2.2+cu121 CUDA:0 (NVIDIA GeForce RTX 4090, 24564MiB)\n",
      "YOLOv8m-worldv2 summary (fused): 245 layers, 28358830 parameters, 706014 gradients, 110.2 GFLOPs\n"
     ]
    },
    {
     "name": "stderr",
     "output_type": "stream",
     "text": [
      "\u001b[34m\u001b[1mval: \u001b[0mScanning C:\\Users\\zhc23013\\Desktop\\Ablation Study\\person.v1i.yolov9\\valid\\labels.cache... 173 images, 0 backgrounds, 0 corrupt: 100%|██████████| 173/173 [00:00<?, ?it/s]\n",
      "                 Class     Images  Instances      Box(P          R      mAP50  mAP50-95): 100%|██████████| 11/11 [00:02<00:00,  5.20it/s]\n"
     ]
    },
    {
     "name": "stdout",
     "output_type": "stream",
     "text": [
      "                   all        173        212      0.962      0.943      0.986      0.938\n",
      "                person        173        212      0.962      0.943      0.986      0.938\n",
      "Speed: 1.3ms preprocess, 4.5ms inference, 0.0ms loss, 0.9ms postprocess per image\n",
      "Results saved to \u001b[1mruns\\detect\\val17\u001b[0m\n"
     ]
    }
   ],
   "source": [
    "model = YOLO(\"yolov8m-worldv2.pt\")  \n",
    "\n",
    "metrics = model.val(data=\"C:/Users/zhc23013/Desktop/Ablation Study/person.v1i.yolov9/data.yaml\")"
   ]
  },
  {
   "cell_type": "markdown",
   "metadata": {},
   "source": [
    "## S"
   ]
  },
  {
   "cell_type": "code",
   "execution_count": 1,
   "metadata": {},
   "outputs": [
    {
     "name": "stdout",
     "output_type": "stream",
     "text": [
      "Downloading https://github.com/ultralytics/assets/releases/download/v8.1.0/yolov8s-worldv2.pt to 'yolov8s-worldv2.pt'...\n"
     ]
    },
    {
     "name": "stderr",
     "output_type": "stream",
     "text": [
      "100%|██████████| 24.7M/24.7M [00:00<00:00, 85.1MB/s]\n",
      "c:\\Users\\zhc23013\\AppData\\Local\\miniconda3\\envs\\yolov8\\Lib\\site-packages\\tqdm\\auto.py:21: TqdmWarning: IProgress not found. Please update jupyter and ipywidgets. See https://ipywidgets.readthedocs.io/en/stable/user_install.html\n",
      "  from .autonotebook import tqdm as notebook_tqdm\n",
      "c:\\Users\\zhc23013\\AppData\\Local\\miniconda3\\envs\\yolov8\\Lib\\site-packages\\torch\\nn\\functional.py:5476: UserWarning: 1Torch was not compiled with flash attention. (Triggered internally at ..\\aten\\src\\ATen\\native\\transformers\\cuda\\sdp_utils.cpp:263.)\n",
      "  attn_output = scaled_dot_product_attention(q, k, v, attn_mask, dropout_p, is_causal)\n"
     ]
    }
   ],
   "source": [
    "from ultralytics import YOLO\n",
    "\n",
    "# Initialize a YOLO-World model\n",
    "model = YOLO(\"yolov8s-worldv2.pt\")  # or select yolov8m/l-world.pt\n",
    "\n",
    "# Define custom classes\n",
    "model.set_classes(['boots', 'gloves', 'goggle', 'helmet', 'mask', 'pants'])\n",
    "\n",
    "# Save the model with the defined offline vocabulary\n",
    "model.save(\"custom_yolov8s.pt\")"
   ]
  },
  {
   "cell_type": "code",
   "execution_count": 2,
   "metadata": {},
   "outputs": [
    {
     "name": "stdout",
     "output_type": "stream",
     "text": [
      "Ultralytics YOLOv8.1.46  Python-3.12.0 torch-2.2.2+cu121 CUDA:0 (NVIDIA GeForce RTX 4090, 24564MiB)\n",
      "YOLOv8s-worldv2 summary: 422 layers, 164026601 parameters, 151786521 gradients, 33.3 GFLOPs\n"
     ]
    },
    {
     "name": "stderr",
     "output_type": "stream",
     "text": [
      "\u001b[34m\u001b[1mval: \u001b[0mScanning C:\\Users\\zhc23013\\Desktop\\Ablation Study\\item.v1i.yolov8\\valid\\labels.cache... 173 images, 0 backgrounds, 0 corrupt: 100%|██████████| 173/173 [00:00<?, ?it/s]\n",
      "                 Class     Images  Instances      Box(P          R      mAP50  mAP50-95): 100%|██████████| 11/11 [00:02<00:00,  5.18it/s]\n"
     ]
    },
    {
     "name": "stdout",
     "output_type": "stream",
     "text": [
      "                   all        173        685      0.594      0.498      0.545      0.326\n",
      "                 boots        173        155      0.456        0.4      0.329      0.185\n",
      "                gloves        173        186       0.71      0.592      0.649      0.369\n",
      "                goggle        173         26      0.443      0.154      0.285      0.102\n",
      "                helmet        173         96      0.892      0.708      0.865      0.605\n",
      "                  mask        173         78      0.497      0.329      0.346      0.166\n",
      "                 pants        173        144      0.563      0.806      0.795       0.53\n",
      "Speed: 1.4ms preprocess, 3.9ms inference, 0.0ms loss, 1.1ms postprocess per image\n",
      "Results saved to \u001b[1mruns\\detect\\val13\u001b[0m\n"
     ]
    }
   ],
   "source": [
    "from ultralytics import YOLO\n",
    "\n",
    "# Load your custom model\n",
    "model = YOLO(\"custom_yolov8s.pt\")\n",
    "\n",
    "metrics = model.val(data=\"C:/Users/zhc23013/Desktop/Ablation Study/item.v1i.yolov8/data.yaml\")"
   ]
  },
  {
   "cell_type": "markdown",
   "metadata": {},
   "source": [
    "## M"
   ]
  },
  {
   "cell_type": "code",
   "execution_count": 3,
   "metadata": {},
   "outputs": [
    {
     "name": "stdout",
     "output_type": "stream",
     "text": [
      "Downloading https://github.com/ultralytics/assets/releases/download/v8.1.0/yolov8m-worldv2.pt to 'yolov8m-worldv2.pt'...\n"
     ]
    },
    {
     "name": "stderr",
     "output_type": "stream",
     "text": [
      "100%|██████████| 54.6M/54.6M [00:01<00:00, 46.5MB/s]\n"
     ]
    }
   ],
   "source": [
    "from ultralytics import YOLO\n",
    "\n",
    "# Initialize a YOLO-World model\n",
    "model = YOLO(\"yolov8m-worldv2.pt\")  # or select yolov8m/l-world.pt\n",
    "\n",
    "# Define custom classes\n",
    "model.set_classes(['boots', 'gloves', 'goggle', 'helmet', 'mask', 'pants'])\n",
    "\n",
    "# Save the model with the defined offline vocabulary\n",
    "model.save(\"custom_yolov8m.pt\")"
   ]
  },
  {
   "cell_type": "code",
   "execution_count": 4,
   "metadata": {},
   "outputs": [
    {
     "name": "stdout",
     "output_type": "stream",
     "text": [
      "Ultralytics YOLOv8.1.46  Python-3.12.0 torch-2.2.2+cu121 CUDA:0 (NVIDIA GeForce RTX 4090, 24564MiB)\n",
      "YOLOv8m-worldv2 summary: 472 layers, 179636143 parameters, 151983327 gradients, 86.9 GFLOPs\n"
     ]
    },
    {
     "name": "stderr",
     "output_type": "stream",
     "text": [
      "\u001b[34m\u001b[1mval: \u001b[0mScanning C:\\Users\\zhc23013\\Desktop\\Ablation Study\\item.v1i.yolov8\\valid\\labels.cache... 173 images, 0 backgrounds, 0 corrupt: 100%|██████████| 173/173 [00:00<?, ?it/s]\n",
      "                 Class     Images  Instances      Box(P          R      mAP50  mAP50-95): 100%|██████████| 11/11 [00:02<00:00,  4.69it/s]\n"
     ]
    },
    {
     "name": "stdout",
     "output_type": "stream",
     "text": [
      "                   all        173        685      0.825      0.394      0.571       0.43\n",
      "                 boots        173        155      0.635      0.465      0.585      0.465\n",
      "                gloves        173        186      0.746      0.699      0.747      0.574\n",
      "                goggle        173         26          1          0      0.215      0.132\n",
      "                helmet        173         96      0.824      0.854      0.912      0.781\n",
      "                  mask        173         78      0.745      0.346      0.514      0.349\n",
      "                 pants        173        144          1          0      0.455      0.278\n",
      "Speed: 1.4ms preprocess, 5.1ms inference, 0.0ms loss, 1.0ms postprocess per image\n",
      "Results saved to \u001b[1mruns\\detect\\val14\u001b[0m\n"
     ]
    }
   ],
   "source": [
    "from ultralytics import YOLO\n",
    "\n",
    "# Load your custom model\n",
    "model = YOLO(\"custom_yolov8m.pt\")\n",
    "\n",
    "metrics = model.val(data=\"C:/Users/zhc23013/Desktop/Ablation Study/item.v1i.yolov8/data.yaml\")"
   ]
  },
  {
   "cell_type": "markdown",
   "metadata": {},
   "source": [
    "## L"
   ]
  },
  {
   "cell_type": "code",
   "execution_count": 5,
   "metadata": {},
   "outputs": [],
   "source": [
    "from ultralytics import YOLO\n",
    "\n",
    "# Initialize a YOLO-World model\n",
    "model = YOLO(\"yolov8l-worldv2.pt\")  # or select yolov8m/l-world.pt\n",
    "\n",
    "# Define custom classes\n",
    "model.set_classes(['boots', 'gloves', 'goggle', 'helmet', 'mask', 'pants'])\n",
    "\n",
    "# Save the model with the defined offline vocabulary\n",
    "model.save(\"custom_yolov8l.pt\")"
   ]
  },
  {
   "cell_type": "code",
   "execution_count": 6,
   "metadata": {},
   "outputs": [
    {
     "name": "stdout",
     "output_type": "stream",
     "text": [
      "Ultralytics YOLOv8.1.46  Python-3.12.0 torch-2.2.2+cu121 CUDA:0 (NVIDIA GeForce RTX 4090, 24564MiB)\n",
      "YOLOv8l-worldv2 summary: 522 layers, 198085235 parameters, 152147299 gradients, 176.7 GFLOPs\n"
     ]
    },
    {
     "name": "stderr",
     "output_type": "stream",
     "text": [
      "\u001b[34m\u001b[1mval: \u001b[0mScanning C:\\Users\\zhc23013\\Desktop\\Ablation Study\\item.v1i.yolov8\\valid\\labels.cache... 173 images, 0 backgrounds, 0 corrupt: 100%|██████████| 173/173 [00:00<?, ?it/s]\n",
      "                 Class     Images  Instances      Box(P          R      mAP50  mAP50-95): 100%|██████████| 11/11 [00:02<00:00,  4.20it/s]\n"
     ]
    },
    {
     "name": "stdout",
     "output_type": "stream",
     "text": [
      "                   all        173        685      0.837      0.435      0.588      0.457\n",
      "                 boots        173        155      0.679      0.516      0.639      0.513\n",
      "                gloves        173        186      0.698       0.79      0.821      0.651\n",
      "                goggle        173         26          1          0      0.505      0.314\n",
      "                helmet        173         96      0.898      0.844      0.938      0.807\n",
      "                  mask        173         78      0.745      0.462      0.621      0.457\n",
      "                 pants        173        144          1          0    0.00182    0.00146\n",
      "Speed: 1.3ms preprocess, 7.2ms inference, 0.0ms loss, 1.0ms postprocess per image\n",
      "Results saved to \u001b[1mruns\\detect\\val15\u001b[0m\n"
     ]
    }
   ],
   "source": [
    "model = YOLO(\"custom_yolov8l.pt\")\n",
    "\n",
    "metrics = model.val(data=\"C:/Users/zhc23013/Desktop/Ablation Study/item.v1i.yolov8/data.yaml\")"
   ]
  },
  {
   "cell_type": "markdown",
   "metadata": {},
   "source": [
    "## OWLv2"
   ]
  },
  {
   "cell_type": "code",
   "execution_count": 30,
   "metadata": {},
   "outputs": [
    {
     "name": "stdout",
     "output_type": "stream",
     "text": [
      "loading annotations into memory...\n",
      "Done (t=0.00s)\n",
      "creating index...\n",
      "index created!\n"
     ]
    }
   ],
   "source": [
    "import os\n",
    "from PIL import Image\n",
    "import torch\n",
    "from transformers import AutoProcessor, Owlv2ForObjectDetection\n",
    "from pycocotools.coco import COCO\n",
    "from pycocotools.cocoeval import COCOeval\n",
    "\n",
    "device = torch.device(\"cuda\" if torch.cuda.is_available() else \"cpu\")\n",
    "# 加载 OWLv2 模型和处理器\n",
    "processor = AutoProcessor.from_pretrained(\"google/owlv2-large-patch14-ensemble\")\n",
    "model = Owlv2ForObjectDetection.from_pretrained(\"google/owlv2-large-patch14-ensemble\").to(device)\n",
    "\n",
    "# 加载COCO格式的真实标签（annotations）\n",
    "coco_gt = COCO(\"person.v1i.coco/valid/_annotations.coco.json\")\n",
    "\n",
    "# 存储预测结果\n",
    "detections = []\n",
    "\n",
    "# 获取图片路径\n",
    "image_dir = \"person.v1i.coco/valid\"\n",
    "image_ids = coco_gt.getImgIds()\n",
    "for image_id in image_ids:\n",
    "    image_info = coco_gt.loadImgs(image_id)[0]\n",
    "    image_file = os.path.join(image_dir, image_info['file_name'])\n",
    "    image = Image.open(image_file)\n",
    "    \n",
    "    # 自定义文本查询\n",
    "    texts = [[\"a photo of a person\"]]\n",
    "    \n",
    "    # 处理图像和文本输入\n",
    "    inputs = processor(text=texts, images=image, return_tensors=\"pt\").to(device)\n",
    "\n",
    "    # forward pass\n",
    "    with torch.no_grad():\n",
    "        outputs = model(**inputs)\n",
    "\n",
    "    target_sizes = torch.Tensor([image.size[::-1]])\n",
    "    \n",
    "    # 获取检测结果\n",
    "    results = processor.post_process_object_detection(\n",
    "        outputs=outputs, threshold=0.2, target_sizes=target_sizes\n",
    "    )\n",
    "\n",
    "    # 将结果格式化为 COCO 格式\n",
    "    boxes, scores, labels = results[0][\"boxes\"], results[0][\"scores\"], results[0][\"labels\"]\n",
    "    for box, score, label in zip(boxes, scores, labels):\n",
    "        x_min, y_min, x_max, y_max = box.tolist()\n",
    "        width, height = x_max - x_min, y_max - y_min\n",
    "        detection = {\n",
    "            \"image_id\": image_id,\n",
    "            \"category_id\": 1,  # 类别\n",
    "            \"bbox\": [x_min, y_min, width, height],  # 边界框\n",
    "            \"score\": score.item()  # 置信度得分\n",
    "        }\n",
    "        detections.append(detection)\n",
    "\n",
    "# 保存检测结果为 JSON 文件\n",
    "import json\n",
    "with open(\"owlv2_detections.json\", \"w\") as f:\n",
    "    json.dump(detections, f)\n"
   ]
  },
  {
   "cell_type": "code",
   "execution_count": 31,
   "metadata": {},
   "outputs": [
    {
     "name": "stdout",
     "output_type": "stream",
     "text": [
      "Loading and preparing results...\n",
      "DONE (t=0.01s)\n",
      "creating index...\n",
      "index created!\n",
      "Running per image evaluation...\n",
      "Evaluate annotation type *bbox*\n",
      "DONE (t=0.02s).\n",
      "Accumulating evaluation results...\n",
      "DONE (t=0.01s).\n",
      " Average Precision  (AP) @[ IoU=0.50:0.95 | area=   all | maxDets=100 ] = 0.849\n",
      " Average Precision  (AP) @[ IoU=0.50      | area=   all | maxDets=100 ] = 0.946\n",
      " Average Precision  (AP) @[ IoU=0.75      | area=   all | maxDets=100 ] = 0.934\n",
      " Average Precision  (AP) @[ IoU=0.50:0.95 | area= small | maxDets=100 ] = -1.000\n",
      " Average Precision  (AP) @[ IoU=0.50:0.95 | area=medium | maxDets=100 ] = 0.332\n",
      " Average Precision  (AP) @[ IoU=0.50:0.95 | area= large | maxDets=100 ] = 0.865\n",
      " Average Recall     (AR) @[ IoU=0.50:0.95 | area=   all | maxDets=  1 ] = 0.744\n",
      " Average Recall     (AR) @[ IoU=0.50:0.95 | area=   all | maxDets= 10 ] = 0.901\n",
      " Average Recall     (AR) @[ IoU=0.50:0.95 | area=   all | maxDets=100 ] = 0.901\n",
      " Average Recall     (AR) @[ IoU=0.50:0.95 | area= small | maxDets=100 ] = -1.000\n",
      " Average Recall     (AR) @[ IoU=0.50:0.95 | area=medium | maxDets=100 ] = 0.775\n",
      " Average Recall     (AR) @[ IoU=0.50:0.95 | area= large | maxDets=100 ] = 0.903\n"
     ]
    }
   ],
   "source": [
    "# 加载模型的预测结果\n",
    "coco_dt = coco_gt.loadRes(\"owlv2_detections.json\")\n",
    "\n",
    "# 创建 COCOeval 对象\n",
    "coco_eval = COCOeval(coco_gt, coco_dt, iouType='bbox')\n",
    "\n",
    "# 运行评估\n",
    "coco_eval.evaluate()\n",
    "coco_eval.accumulate()\n",
    "coco_eval.summarize()\n"
   ]
  },
  {
   "cell_type": "code",
   "execution_count": 32,
   "metadata": {},
   "outputs": [
    {
     "name": "stdout",
     "output_type": "stream",
     "text": [
      "loading annotations into memory...\n",
      "Done (t=0.00s)\n",
      "creating index...\n",
      "index created!\n",
      "检测结果已保存为 owlv2_detections_item.json\n"
     ]
    }
   ],
   "source": [
    "import os\n",
    "from PIL import Image\n",
    "import torch\n",
    "from transformers import AutoProcessor, Owlv2ForObjectDetection\n",
    "from pycocotools.coco import COCO\n",
    "\n",
    "device = torch.device(\"cuda\" if torch.cuda.is_available() else \"cpu\")\n",
    "\n",
    "# 加载 OWLv2 模型和处理器\n",
    "processor = AutoProcessor.from_pretrained(\"google/owlv2-large-patch14-ensemble\")\n",
    "model = Owlv2ForObjectDetection.from_pretrained(\"google/owlv2-large-patch14-ensemble\").to(device)\n",
    "\n",
    "# 加载COCO格式的真实标签（annotations）\n",
    "coco_gt = COCO(\"item.v1i.coco/valid/_annotations.coco.json\")\n",
    "\n",
    "# 类别 ID 映射\n",
    "category_mapping = {\n",
    "    0: 1,  # boots -> 1\n",
    "    1: 2,  # glove -> 2\n",
    "    2: 3,  # goggle -> 3\n",
    "    3: 4,  # helmet -> 4\n",
    "    4: 5,  # mask -> 5\n",
    "    5: 6   # pants -> 6\n",
    "}\n",
    "\n",
    "# 存储预测结果\n",
    "detections = []\n",
    "\n",
    "# 获取图片路径\n",
    "image_dir = \"item.v1i.coco/valid\"\n",
    "image_ids = coco_gt.getImgIds()\n",
    "\n",
    "for image_id in image_ids:\n",
    "    image_info = coco_gt.loadImgs(image_id)[0]\n",
    "    image_file = os.path.join(image_dir, image_info['file_name'])\n",
    "    image = Image.open(image_file)\n",
    "    \n",
    "    # 自定义文本查询\n",
    "    texts = [[\"a photo of boots\", \"a photo of a glove\", \"a photo of a goggle\", \"a photo of a helmet\", \"a photo of a mask\", \"a photo of pants\"]]\n",
    "    \n",
    "    # 处理图像和文本输入\n",
    "    inputs = processor(text=texts, images=image, return_tensors=\"pt\").to(device)\n",
    "\n",
    "    # forward pass\n",
    "    with torch.no_grad():\n",
    "        outputs = model(**inputs)\n",
    "\n",
    "    target_sizes = torch.Tensor([image.size[::-1]]).to(device)\n",
    "    \n",
    "    # 获取检测结果\n",
    "    results = processor.post_process_object_detection(\n",
    "        outputs=outputs, threshold=0.2, target_sizes=target_sizes\n",
    "    )\n",
    "\n",
    "    # 将结果格式化为 COCO 格式，并根据 label 设置 category_id\n",
    "    boxes, scores, labels = results[0][\"boxes\"], results[0][\"scores\"], results[0][\"labels\"]\n",
    "    for box, score, label in zip(boxes, scores, labels):\n",
    "        x_min, y_min, x_max, y_max = box.tolist()\n",
    "        width, height = x_max - x_min, y_max - y_min\n",
    "        category_id = category_mapping[label.item()]  # 根据label的索引映射到相应类别ID\n",
    "        detection = {\n",
    "            \"image_id\": image_id,\n",
    "            \"category_id\": category_id,  # 设置类别ID\n",
    "            \"bbox\": [x_min, y_min, width, height],  # 边界框\n",
    "            \"score\": score.item()  # 置信度得分\n",
    "        }\n",
    "        detections.append(detection)\n",
    "\n",
    "# 保存检测结果为 JSON 文件\n",
    "import json\n",
    "with open(\"owlv2_detections_item.json\", \"w\") as f:\n",
    "    json.dump(detections, f)\n",
    "\n",
    "print(\"检测结果已保存为 owlv2_detections_item.json\")\n"
   ]
  },
  {
   "cell_type": "code",
   "execution_count": 33,
   "metadata": {},
   "outputs": [
    {
     "name": "stdout",
     "output_type": "stream",
     "text": [
      "Loading and preparing results...\n",
      "DONE (t=0.00s)\n",
      "creating index...\n",
      "index created!\n",
      "Running per image evaluation...\n",
      "Evaluate annotation type *bbox*\n",
      "DONE (t=0.07s).\n",
      "Accumulating evaluation results...\n",
      "DONE (t=0.03s).\n",
      " Average Precision  (AP) @[ IoU=0.50:0.95 | area=   all | maxDets=100 ] = 0.536\n",
      " Average Precision  (AP) @[ IoU=0.50      | area=   all | maxDets=100 ] = 0.724\n",
      " Average Precision  (AP) @[ IoU=0.75      | area=   all | maxDets=100 ] = 0.639\n",
      " Average Precision  (AP) @[ IoU=0.50:0.95 | area= small | maxDets=100 ] = 0.304\n",
      " Average Precision  (AP) @[ IoU=0.50:0.95 | area=medium | maxDets=100 ] = 0.504\n",
      " Average Precision  (AP) @[ IoU=0.50:0.95 | area= large | maxDets=100 ] = 0.591\n",
      " Average Recall     (AR) @[ IoU=0.50:0.95 | area=   all | maxDets=  1 ] = 0.537\n",
      " Average Recall     (AR) @[ IoU=0.50:0.95 | area=   all | maxDets= 10 ] = 0.629\n",
      " Average Recall     (AR) @[ IoU=0.50:0.95 | area=   all | maxDets=100 ] = 0.629\n",
      " Average Recall     (AR) @[ IoU=0.50:0.95 | area= small | maxDets=100 ] = 0.518\n",
      " Average Recall     (AR) @[ IoU=0.50:0.95 | area=medium | maxDets=100 ] = 0.635\n",
      " Average Recall     (AR) @[ IoU=0.50:0.95 | area= large | maxDets=100 ] = 0.651\n"
     ]
    }
   ],
   "source": [
    "coco_dt = coco_gt.loadRes(\"owlv2_detections_item.json\")\n",
    "\n",
    "coco_eval = COCOeval(coco_gt, coco_dt, iouType='bbox')\n",
    "\n",
    "coco_eval.evaluate()\n",
    "coco_eval.accumulate()\n",
    "coco_eval.summarize()"
   ]
  },
  {
   "cell_type": "markdown",
   "metadata": {},
   "source": [
    "## OWL-vit"
   ]
  },
  {
   "cell_type": "code",
   "execution_count": 28,
   "metadata": {},
   "outputs": [
    {
     "name": "stdout",
     "output_type": "stream",
     "text": [
      "loading annotations into memory...\n",
      "Done (t=0.00s)\n",
      "creating index...\n",
      "index created!\n"
     ]
    }
   ],
   "source": [
    "import os\n",
    "from PIL import Image\n",
    "import torch\n",
    "from transformers import AutoProcessor, OwlViTForObjectDetection\n",
    "from pycocotools.coco import COCO\n",
    "from pycocotools.cocoeval import COCOeval\n",
    "\n",
    "device = torch.device(\"cuda\" if torch.cuda.is_available() else \"cpu\")\n",
    "# 加载 OWLv2 模型和处理器\n",
    "processor = AutoProcessor.from_pretrained(\"google/owlvit-large-patch14\")\n",
    "model = OwlViTForObjectDetection.from_pretrained(\"google/owlvit-large-patch14\").to(device)\n",
    "\n",
    "# 加载COCO格式的真实标签（annotations）\n",
    "coco_gt = COCO(\"person.v1i.coco/valid/_annotations.coco.json\")\n",
    "\n",
    "# 存储预测结果\n",
    "detections = []\n",
    "\n",
    "# 获取图片路径\n",
    "image_dir = \"person.v1i.coco/valid\"\n",
    "image_ids = coco_gt.getImgIds()\n",
    "for image_id in image_ids:\n",
    "    image_info = coco_gt.loadImgs(image_id)[0]\n",
    "    image_file = os.path.join(image_dir, image_info['file_name'])\n",
    "    image = Image.open(image_file)\n",
    "    \n",
    "    # 自定义文本查询\n",
    "    texts = [[\"a photo of a person\"]]\n",
    "    \n",
    "    # 处理图像和文本输入\n",
    "    inputs = processor(text=texts, images=image, return_tensors=\"pt\").to(device)\n",
    "\n",
    "    # forward pass\n",
    "    with torch.no_grad():\n",
    "        outputs = model(**inputs)\n",
    "\n",
    "    target_sizes = torch.Tensor([image.size[::-1]])\n",
    "    \n",
    "    # 获取检测结果\n",
    "    results = processor.post_process_object_detection(\n",
    "        outputs=outputs, threshold=0.2, target_sizes=target_sizes\n",
    "    )\n",
    "\n",
    "    # 将结果格式化为 COCO 格式\n",
    "    boxes, scores, labels = results[0][\"boxes\"], results[0][\"scores\"], results[0][\"labels\"]\n",
    "    for box, score, label in zip(boxes, scores, labels):\n",
    "        x_min, y_min, x_max, y_max = box.tolist()\n",
    "        width, height = x_max - x_min, y_max - y_min\n",
    "        detection = {\n",
    "            \"image_id\": image_id,\n",
    "            \"category_id\": 1,  # 类别\n",
    "            \"bbox\": [x_min, y_min, width, height],  # 边界框\n",
    "            \"score\": score.item()  # 置信度得分\n",
    "        }\n",
    "        detections.append(detection)\n",
    "\n",
    "# 保存检测结果为 JSON 文件\n",
    "import json\n",
    "with open(\"owl-vit_detections.json\", \"w\") as f:\n",
    "    json.dump(detections, f)\n"
   ]
  },
  {
   "cell_type": "code",
   "execution_count": 29,
   "metadata": {},
   "outputs": [
    {
     "name": "stdout",
     "output_type": "stream",
     "text": [
      "Loading and preparing results...\n",
      "DONE (t=0.00s)\n",
      "creating index...\n",
      "index created!\n",
      "Running per image evaluation...\n",
      "Evaluate annotation type *bbox*\n",
      "DONE (t=0.02s).\n",
      "Accumulating evaluation results...\n",
      "DONE (t=0.01s).\n",
      " Average Precision  (AP) @[ IoU=0.50:0.95 | area=   all | maxDets=100 ] = 0.912\n",
      " Average Precision  (AP) @[ IoU=0.50      | area=   all | maxDets=100 ] = 0.983\n",
      " Average Precision  (AP) @[ IoU=0.75      | area=   all | maxDets=100 ] = 0.982\n",
      " Average Precision  (AP) @[ IoU=0.50:0.95 | area= small | maxDets=100 ] = -1.000\n",
      " Average Precision  (AP) @[ IoU=0.50:0.95 | area=medium | maxDets=100 ] = 0.631\n",
      " Average Precision  (AP) @[ IoU=0.50:0.95 | area= large | maxDets=100 ] = 0.921\n",
      " Average Recall     (AR) @[ IoU=0.50:0.95 | area=   all | maxDets=  1 ] = 0.774\n",
      " Average Recall     (AR) @[ IoU=0.50:0.95 | area=   all | maxDets= 10 ] = 0.945\n",
      " Average Recall     (AR) @[ IoU=0.50:0.95 | area=   all | maxDets=100 ] = 0.945\n",
      " Average Recall     (AR) @[ IoU=0.50:0.95 | area= small | maxDets=100 ] = -1.000\n",
      " Average Recall     (AR) @[ IoU=0.50:0.95 | area=medium | maxDets=100 ] = 0.800\n",
      " Average Recall     (AR) @[ IoU=0.50:0.95 | area= large | maxDets=100 ] = 0.948\n"
     ]
    }
   ],
   "source": [
    "coco_dt = coco_gt.loadRes(\"owl-vit_detections.json\")\n",
    "\n",
    "coco_eval = COCOeval(coco_gt, coco_dt, iouType='bbox')\n",
    "\n",
    "coco_eval.evaluate()\n",
    "coco_eval.accumulate()\n",
    "coco_eval.summarize()"
   ]
  },
  {
   "cell_type": "code",
   "execution_count": 34,
   "metadata": {},
   "outputs": [
    {
     "name": "stdout",
     "output_type": "stream",
     "text": [
      "loading annotations into memory...\n",
      "Done (t=0.00s)\n",
      "creating index...\n",
      "index created!\n"
     ]
    }
   ],
   "source": [
    "import os\n",
    "from PIL import Image\n",
    "import torch\n",
    "from transformers import AutoProcessor, OwlViTForObjectDetection\n",
    "from pycocotools.coco import COCO\n",
    "\n",
    "device = torch.device(\"cuda\" if torch.cuda.is_available() else \"cpu\")\n",
    "\n",
    "# 加载 OWLv2 模型和处理器\n",
    "processor = AutoProcessor.from_pretrained(\"google/owlvit-large-patch14\")\n",
    "model = OwlViTForObjectDetection.from_pretrained(\"google/owlvit-large-patch14\").to(device)\n",
    "\n",
    "# 加载COCO格式的真实标签（annotations）\n",
    "coco_gt = COCO(\"item.v1i.coco/valid/_annotations.coco.json\")\n",
    "\n",
    "# 类别 ID 映射\n",
    "category_mapping = {\n",
    "    0: 1,  # boots -> 1\n",
    "    1: 2,  # glove -> 2\n",
    "    2: 3,  # goggle -> 3\n",
    "    3: 4,  # helmet -> 4\n",
    "    4: 5,  # mask -> 5\n",
    "    5: 6   # pants -> 6\n",
    "}\n",
    "\n",
    "# 存储预测结果\n",
    "detections = []\n",
    "\n",
    "# 获取图片路径\n",
    "image_dir = \"item.v1i.coco/valid\"\n",
    "image_ids = coco_gt.getImgIds()\n",
    "\n",
    "for image_id in image_ids:\n",
    "    image_info = coco_gt.loadImgs(image_id)[0]\n",
    "    image_file = os.path.join(image_dir, image_info['file_name'])\n",
    "    image = Image.open(image_file)\n",
    "    \n",
    "    # 自定义文本查询\n",
    "    texts = [[\"a photo of boots\", \"a photo of a glove\", \"a photo of a goggle\", \"a photo of a helmet\", \"a photo of a mask\", \"a photo of pants\"]]\n",
    "    \n",
    "    # 处理图像和文本输入\n",
    "    inputs = processor(text=texts, images=image, return_tensors=\"pt\").to(device)\n",
    "\n",
    "    # forward pass\n",
    "    with torch.no_grad():\n",
    "        outputs = model(**inputs)\n",
    "\n",
    "    target_sizes = torch.Tensor([image.size[::-1]]).to(device)\n",
    "    \n",
    "    # 获取检测结果\n",
    "    results = processor.post_process_object_detection(\n",
    "        outputs=outputs, threshold=0.2, target_sizes=target_sizes\n",
    "    )\n",
    "\n",
    "    # 将结果格式化为 COCO 格式，并根据 label 设置 category_id\n",
    "    boxes, scores, labels = results[0][\"boxes\"], results[0][\"scores\"], results[0][\"labels\"]\n",
    "    for box, score, label in zip(boxes, scores, labels):\n",
    "        x_min, y_min, x_max, y_max = box.tolist()\n",
    "        width, height = x_max - x_min, y_max - y_min\n",
    "        category_id = category_mapping[label.item()]  # 根据label的索引映射到相应类别ID\n",
    "        detection = {\n",
    "            \"image_id\": image_id,\n",
    "            \"category_id\": category_id,  # 设置类别ID\n",
    "            \"bbox\": [x_min, y_min, width, height],  # 边界框\n",
    "            \"score\": score.item()  # 置信度得分\n",
    "        }\n",
    "        detections.append(detection)\n",
    "\n",
    "# 保存检测结果为 JSON 文件\n",
    "import json\n",
    "with open(\"owl-vit_detections_item.json\", \"w\") as f:\n",
    "    json.dump(detections, f)"
   ]
  },
  {
   "cell_type": "code",
   "execution_count": 35,
   "metadata": {},
   "outputs": [
    {
     "name": "stdout",
     "output_type": "stream",
     "text": [
      "Loading and preparing results...\n",
      "DONE (t=0.00s)\n",
      "creating index...\n",
      "index created!\n",
      "Running per image evaluation...\n",
      "Evaluate annotation type *bbox*\n",
      "DONE (t=0.05s).\n",
      "Accumulating evaluation results...\n",
      "DONE (t=0.03s).\n",
      " Average Precision  (AP) @[ IoU=0.50:0.95 | area=   all | maxDets=100 ] = 0.390\n",
      " Average Precision  (AP) @[ IoU=0.50      | area=   all | maxDets=100 ] = 0.531\n",
      " Average Precision  (AP) @[ IoU=0.75      | area=   all | maxDets=100 ] = 0.454\n",
      " Average Precision  (AP) @[ IoU=0.50:0.95 | area= small | maxDets=100 ] = 0.298\n",
      " Average Precision  (AP) @[ IoU=0.50:0.95 | area=medium | maxDets=100 ] = 0.408\n",
      " Average Precision  (AP) @[ IoU=0.50:0.95 | area= large | maxDets=100 ] = 0.468\n",
      " Average Recall     (AR) @[ IoU=0.50:0.95 | area=   all | maxDets=  1 ] = 0.341\n",
      " Average Recall     (AR) @[ IoU=0.50:0.95 | area=   all | maxDets= 10 ] = 0.434\n",
      " Average Recall     (AR) @[ IoU=0.50:0.95 | area=   all | maxDets=100 ] = 0.434\n",
      " Average Recall     (AR) @[ IoU=0.50:0.95 | area= small | maxDets=100 ] = 0.387\n",
      " Average Recall     (AR) @[ IoU=0.50:0.95 | area=medium | maxDets=100 ] = 0.446\n",
      " Average Recall     (AR) @[ IoU=0.50:0.95 | area= large | maxDets=100 ] = 0.502\n"
     ]
    }
   ],
   "source": [
    "coco_dt = coco_gt.loadRes(\"owl-vit_detections_item.json\")\n",
    "\n",
    "coco_eval = COCOeval(coco_gt, coco_dt, iouType='bbox')\n",
    "\n",
    "coco_eval.evaluate()\n",
    "coco_eval.accumulate()\n",
    "coco_eval.summarize()"
   ]
  },
  {
   "cell_type": "markdown",
   "metadata": {},
   "source": [
    "## Groundinf DINO"
   ]
  },
  {
   "cell_type": "code",
   "execution_count": 4,
   "metadata": {},
   "outputs": [
    {
     "name": "stdout",
     "output_type": "stream",
     "text": [
      "loading annotations into memory...\n",
      "Done (t=0.00s)\n",
      "creating index...\n",
      "index created!\n",
      "检测结果已保存为 grounding-dino_detections.json\n"
     ]
    }
   ],
   "source": [
    "import os\n",
    "from PIL import Image\n",
    "import torch\n",
    "from transformers import AutoProcessor, GroundingDinoForObjectDetection\n",
    "from pycocotools.coco import COCO\n",
    "\n",
    "device = torch.device(\"cuda\" if torch.cuda.is_available() else \"cpu\")\n",
    "\n",
    "model_id = \"IDEA-Research/grounding-dino-tiny\"\n",
    "\n",
    "# 加载 processor 和模型\n",
    "processor = AutoProcessor.from_pretrained(model_id)\n",
    "model = GroundingDinoForObjectDetection.from_pretrained(model_id).to(device)\n",
    "\n",
    "# 加载 COCO 格式的真实标签（annotations）\n",
    "coco_gt = COCO(\"person.v1i.coco/valid/_annotations.coco.json\")\n",
    "\n",
    "detections = []\n",
    "\n",
    "# 获取图片路径\n",
    "image_dir = \"person.v1i.coco/valid\"\n",
    "image_ids = coco_gt.getImgIds()\n",
    "for image_id in image_ids:\n",
    "    image_info = coco_gt.loadImgs(image_id)[0]\n",
    "    image_file = os.path.join(image_dir, image_info['file_name'])\n",
    "    image = Image.open(image_file)\n",
    "    \n",
    "    # 自定义文本查询\n",
    "    texts = \"a person.\"\n",
    "    \n",
    "    # 处理图像和文本输入\n",
    "    inputs = processor(images=image, text=texts, return_tensors=\"pt\").to(device)\n",
    "\n",
    "    # forward pass\n",
    "    with torch.no_grad():\n",
    "        outputs = model(**inputs)\n",
    "\n",
    "    # 将模型输出结果转换为 COCO 格式\n",
    "    target_sizes = torch.tensor([image.size[::-1]], device=device)\n",
    "    \n",
    "    # 使用 processor 的 image_processor 来处理检测结果\n",
    "    results = processor.image_processor.post_process_object_detection(\n",
    "        outputs, threshold=0.35, target_sizes=target_sizes\n",
    "    )[0]\n",
    "\n",
    "    # 将结果格式化为 COCO 格式\n",
    "    boxes, scores, labels = results[\"boxes\"], results[\"scores\"], results[\"labels\"]\n",
    "    for box, score, label in zip(boxes, scores, labels):\n",
    "        x_min, y_min, x_max, y_max = box.tolist()\n",
    "        width, height = x_max - x_min, y_max - y_min\n",
    "        detection = {\n",
    "            \"image_id\": image_id,\n",
    "            \"category_id\": 1,  # 假设检测类别为person, 类别ID为1\n",
    "            \"bbox\": [x_min, y_min, width, height],  # 边界框\n",
    "            \"score\": score.item()  # 置信度得分\n",
    "        }\n",
    "        detections.append(detection)\n",
    "\n",
    "# 保存检测结果为 JSON 文件\n",
    "import json\n",
    "with open(\"grounding-dino_detections.json\", \"w\") as f:\n",
    "    json.dump(detections, f)\n",
    "\n",
    "print(\"检测结果已保存为 grounding-dino_detections.json\")\n"
   ]
  },
  {
   "cell_type": "code",
   "execution_count": 6,
   "metadata": {},
   "outputs": [
    {
     "name": "stdout",
     "output_type": "stream",
     "text": [
      "Loading and preparing results...\n",
      "DONE (t=0.00s)\n",
      "creating index...\n",
      "index created!\n",
      "Running per image evaluation...\n",
      "Evaluate annotation type *bbox*\n",
      "DONE (t=0.02s).\n",
      "Accumulating evaluation results...\n",
      "DONE (t=0.01s).\n",
      " Average Precision  (AP) @[ IoU=0.50:0.95 | area=   all | maxDets=100 ] = 0.943\n",
      " Average Precision  (AP) @[ IoU=0.50      | area=   all | maxDets=100 ] = 0.988\n",
      " Average Precision  (AP) @[ IoU=0.75      | area=   all | maxDets=100 ] = 0.978\n",
      " Average Precision  (AP) @[ IoU=0.50:0.95 | area= small | maxDets=100 ] = -1.000\n",
      " Average Precision  (AP) @[ IoU=0.50:0.95 | area=medium | maxDets=100 ] = 0.578\n",
      " Average Precision  (AP) @[ IoU=0.50:0.95 | area= large | maxDets=100 ] = 0.948\n",
      " Average Recall     (AR) @[ IoU=0.50:0.95 | area=   all | maxDets=  1 ] = 0.789\n",
      " Average Recall     (AR) @[ IoU=0.50:0.95 | area=   all | maxDets= 10 ] = 0.959\n",
      " Average Recall     (AR) @[ IoU=0.50:0.95 | area=   all | maxDets=100 ] = 0.959\n",
      " Average Recall     (AR) @[ IoU=0.50:0.95 | area= small | maxDets=100 ] = -1.000\n",
      " Average Recall     (AR) @[ IoU=0.50:0.95 | area=medium | maxDets=100 ] = 0.575\n",
      " Average Recall     (AR) @[ IoU=0.50:0.95 | area= large | maxDets=100 ] = 0.967\n"
     ]
    }
   ],
   "source": [
    "from pycocotools.cocoeval import COCOeval\n",
    "coco_dt = coco_gt.loadRes(\"grounding-dino_detections.json\")\n",
    "\n",
    "coco_eval = COCOeval(coco_gt, coco_dt, iouType='bbox')\n",
    "\n",
    "coco_eval.evaluate()\n",
    "coco_eval.accumulate()\n",
    "coco_eval.summarize()"
   ]
  },
  {
   "cell_type": "code",
   "execution_count": 1,
   "metadata": {},
   "outputs": [
    {
     "name": "stderr",
     "output_type": "stream",
     "text": [
      "c:\\Users\\zhc23013\\AppData\\Local\\miniconda3\\envs\\yolov8\\Lib\\site-packages\\tqdm\\auto.py:21: TqdmWarning: IProgress not found. Please update jupyter and ipywidgets. See https://ipywidgets.readthedocs.io/en/stable/user_install.html\n",
      "  from .autonotebook import tqdm as notebook_tqdm\n"
     ]
    },
    {
     "name": "stdout",
     "output_type": "stream",
     "text": [
      "loading annotations into memory...\n",
      "Done (t=0.00s)\n",
      "creating index...\n",
      "index created!\n",
      "检测结果已保存为 grounding-dino_detections_item.json\n"
     ]
    }
   ],
   "source": [
    "import os\n",
    "from PIL import Image\n",
    "import torch\n",
    "from transformers import AutoProcessor, GroundingDinoForObjectDetection\n",
    "from pycocotools.coco import COCO\n",
    "\n",
    "device = torch.device(\"cuda\" if torch.cuda.is_available() else \"cpu\")\n",
    "\n",
    "model_id = \"IDEA-Research/grounding-dino-tiny\"\n",
    "\n",
    "processor = AutoProcessor.from_pretrained(model_id)\n",
    "model = GroundingDinoForObjectDetection.from_pretrained(model_id).to(device)\n",
    "\n",
    "coco_gt = COCO(\"item.v1i.coco/valid/_annotations.coco.json\")\n",
    "\n",
    "detections = []\n",
    "\n",
    "category_mapping = {\n",
    "    0: 1,  # boots -> 1\n",
    "    1: 2,  # glove -> 2\n",
    "    2: 3,  # goggle -> 3\n",
    "    3: 4,  # helmet -> 4\n",
    "    4: 5,  # mask -> 5\n",
    "    5: 6   # pants -> 6\n",
    "}\n",
    "\n",
    "image_dir = \"item.v1i.coco/valid\"\n",
    "image_ids = coco_gt.getImgIds()\n",
    "\n",
    "texts = [\"boots\", \"a glove\", \"a goggle\", \n",
    "         \"a helmet\", \"a mask\", \"pants\"]\n",
    "\n",
    "for image_id in image_ids:\n",
    "    image_info = coco_gt.loadImgs(image_id)[0]\n",
    "    image_file = os.path.join(image_dir, image_info['file_name'])\n",
    "    image = Image.open(image_file)\n",
    "\n",
    "    for idx, text in enumerate(texts):\n",
    "        inputs = processor(images=image, text=text, return_tensors=\"pt\").to(device)\n",
    "\n",
    "        with torch.no_grad():\n",
    "            outputs = model(**inputs)\n",
    "\n",
    "        target_sizes = torch.tensor([image.size[::-1]], device=device)\n",
    "\n",
    "        results = processor.image_processor.post_process_object_detection(\n",
    "            outputs, threshold=0.35, target_sizes=target_sizes\n",
    "        )[0]\n",
    "\n",
    "        boxes, scores, labels = results[\"boxes\"], results[\"scores\"], results[\"labels\"]\n",
    "        for box, score, label in zip(boxes, scores, labels):\n",
    "            x_min, y_min, x_max, y_max = box.tolist()\n",
    "            width, height = x_max - x_min, y_max - y_min\n",
    "            detection = {\n",
    "                \"image_id\": image_id,\n",
    "                \"category_id\": category_mapping[idx],  # 根据文本顺序的类别 ID\n",
    "                \"bbox\": [x_min, y_min, width, height],  # 边界框\n",
    "                \"score\": score.item()  # 置信度得分\n",
    "            }\n",
    "            detections.append(detection)\n",
    "\n",
    "# 保存检测结果为 JSON 文件\n",
    "import json\n",
    "with open(\"grounding-dino_detections_item.json\", \"w\") as f:\n",
    "    json.dump(detections, f)\n",
    "\n",
    "print(\"检测结果已保存为 grounding-dino_detections_item.json\")\n"
   ]
  },
  {
   "cell_type": "code",
   "execution_count": 2,
   "metadata": {},
   "outputs": [
    {
     "name": "stdout",
     "output_type": "stream",
     "text": [
      "Loading and preparing results...\n",
      "DONE (t=0.00s)\n",
      "creating index...\n",
      "index created!\n",
      "Running per image evaluation...\n",
      "Evaluate annotation type *bbox*\n",
      "DONE (t=0.04s).\n",
      "Accumulating evaluation results...\n",
      "DONE (t=0.03s).\n",
      " Average Precision  (AP) @[ IoU=0.50:0.95 | area=   all | maxDets=100 ] = 0.041\n",
      " Average Precision  (AP) @[ IoU=0.50      | area=   all | maxDets=100 ] = 0.045\n",
      " Average Precision  (AP) @[ IoU=0.75      | area=   all | maxDets=100 ] = 0.045\n",
      " Average Precision  (AP) @[ IoU=0.50:0.95 | area= small | maxDets=100 ] = 0.000\n",
      " Average Precision  (AP) @[ IoU=0.50:0.95 | area=medium | maxDets=100 ] = 0.000\n",
      " Average Precision  (AP) @[ IoU=0.50:0.95 | area= large | maxDets=100 ] = 0.061\n",
      " Average Recall     (AR) @[ IoU=0.50:0.95 | area=   all | maxDets=  1 ] = 0.054\n",
      " Average Recall     (AR) @[ IoU=0.50:0.95 | area=   all | maxDets= 10 ] = 0.057\n",
      " Average Recall     (AR) @[ IoU=0.50:0.95 | area=   all | maxDets=100 ] = 0.057\n",
      " Average Recall     (AR) @[ IoU=0.50:0.95 | area= small | maxDets=100 ] = 0.000\n",
      " Average Recall     (AR) @[ IoU=0.50:0.95 | area=medium | maxDets=100 ] = 0.000\n",
      " Average Recall     (AR) @[ IoU=0.50:0.95 | area= large | maxDets=100 ] = 0.076\n"
     ]
    }
   ],
   "source": [
    "from pycocotools.cocoeval import COCOeval\n",
    "coco_dt = coco_gt.loadRes(\"grounding-dino_detections_item.json\")\n",
    "\n",
    "coco_eval = COCOeval(coco_gt, coco_dt, iouType='bbox')\n",
    "\n",
    "coco_eval.evaluate()\n",
    "coco_eval.accumulate()\n",
    "coco_eval.summarize()"
   ]
  },
  {
   "cell_type": "code",
   "execution_count": null,
   "metadata": {},
   "outputs": [],
   "source": []
  }
 ],
 "metadata": {
  "kernelspec": {
   "display_name": "yolov8",
   "language": "python",
   "name": "python3"
  },
  "language_info": {
   "codemirror_mode": {
    "name": "ipython",
    "version": 3
   },
   "file_extension": ".py",
   "mimetype": "text/x-python",
   "name": "python",
   "nbconvert_exporter": "python",
   "pygments_lexer": "ipython3",
   "version": "3.12.0"
  }
 },
 "nbformat": 4,
 "nbformat_minor": 2
}
